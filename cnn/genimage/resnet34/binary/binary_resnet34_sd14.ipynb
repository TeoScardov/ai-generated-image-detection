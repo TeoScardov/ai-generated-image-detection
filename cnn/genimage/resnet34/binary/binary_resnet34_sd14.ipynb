{
 "cells": [
  {
   "cell_type": "code",
   "execution_count": 4,
   "metadata": {},
   "outputs": [],
   "source": [
    "import sys\n",
    "import os\n",
    "script_dir = os.path.dirname(os.path.realpath('__file__'))\n",
    "parent_dir = os.path.dirname(script_dir)\n",
    "sys.path.insert(0, parent_dir)\n",
    "\n",
    "import functions\n",
    "import models\n",
    "import pickle\n",
    "from sklearn.model_selection import train_test_split\n",
    "import torch\n",
    "from torchvision import transforms\n",
    "from torch.utils.data import Subset, DataLoader"
   ]
  },
  {
   "cell_type": "code",
   "execution_count": 5,
   "metadata": {},
   "outputs": [
    {
     "name": "stdout",
     "output_type": "stream",
     "text": [
      "cuda\n"
     ]
    }
   ],
   "source": [
    "# Use the GPU instead of the CPU\n",
    "device = torch.device(\"cuda\" if torch.cuda.is_available() else \"cpu\")\n",
    "print(device)\n",
    "\n",
    "# Define the label map\n",
    "labels_map = {\n",
    "    0: \"REAL\",\n",
    "    1: \"FAKE\"\n",
    "}\n",
    "\n",
    "# Compose the transform that will be applied to the data\n",
    "transform = transforms.Compose([\n",
    "    transforms.Resize((224, 224)),\n",
    "    transforms.ToPILImage(),\n",
    "    transforms.ToTensor(),\n",
    "    transforms.Normalize(mean=[0.485, 0.456, 0.406], std=[0.229, 0.224, 0.225]),\n",
    "])\n",
    "\n",
    "# 324k samples for training\n",
    "train_ds = functions.BinaryGenImage(img_dir=os.path.join(script_dir, '../../dataset/stable_diffusion_1_4/train'), transform=transform)\n",
    "\n",
    "# 6k samples for validation and 6k samples for testing\n",
    "val_test_ds= functions.BinaryGenImage(img_dir=os.path.join(script_dir, '../../dataset/stable_diffusion_1_4/val'), transform=transform)\n",
    "idx_val, idx_test = train_test_split(\n",
    "    range(len(val_test_ds)),\n",
    "    test_size=0.5,  # 50-50 split\n",
    "    stratify=val_test_ds.img_labels, # Uniform class distribution\n",
    "    random_state=0\n",
    ")\n",
    "validation_ds = Subset(val_test_ds, idx_val)\n",
    "test_ds = Subset(val_test_ds, idx_test)"
   ]
  },
  {
   "cell_type": "markdown",
   "metadata": {},
   "source": [
    "# Untrained model"
   ]
  },
  {
   "cell_type": "code",
   "execution_count": 6,
   "metadata": {},
   "outputs": [
    {
     "name": "stdout",
     "output_type": "stream",
     "text": [
      "\n",
      "\n",
      " - binary_untrained_batch64\n",
      "22.573685884475708\n",
      "0.3340001106262207\n",
      "0.3230009078979492\n",
      "0.3275582790374756\n",
      "0.3285694122314453\n",
      "0.320995569229126\n",
      "0.32700061798095703\n",
      "0.3280022144317627\n",
      "0.32399821281433105\n",
      "0.32399821281433105\n",
      "0.3284480571746826\n",
      "0.33051443099975586\n",
      "0.32700085639953613\n",
      "0.32899951934814453\n",
      "0.32901525497436523\n"
     ]
    },
    {
     "ename": "KeyboardInterrupt",
     "evalue": "",
     "output_type": "error",
     "traceback": [
      "\u001b[1;31m---------------------------------------------------------------------------\u001b[0m",
      "\u001b[1;31mKeyboardInterrupt\u001b[0m                         Traceback (most recent call last)",
      "Cell \u001b[1;32mIn[6], line 17\u001b[0m\n\u001b[0;32m     14\u001b[0m \u001b[38;5;28mprint\u001b[39m(\u001b[38;5;124m\"\u001b[39m\u001b[38;5;130;01m\\n\u001b[39;00m\u001b[38;5;130;01m\\n\u001b[39;00m\u001b[38;5;124m - \u001b[39m\u001b[38;5;124m\"\u001b[39m \u001b[38;5;241m+\u001b[39m model_name)\n\u001b[0;32m     16\u001b[0m \u001b[38;5;66;03m# Train the model\u001b[39;00m\n\u001b[1;32m---> 17\u001b[0m train_err, val_err, train_loss \u001b[38;5;241m=\u001b[39m functions\u001b[38;5;241m.\u001b[39mtrain_network(model, device, lr, epochs, train_dl, val_dl)\n\u001b[0;32m     18\u001b[0m functions\u001b[38;5;241m.\u001b[39mplot_training_stats(train_err, val_err, train_loss)\n\u001b[0;32m     19\u001b[0m model_name \u001b[38;5;241m+\u001b[39m\u001b[38;5;241m=\u001b[39m \u001b[38;5;124mf\u001b[39m\u001b[38;5;124m\"\u001b[39m\u001b[38;5;124m_epochs\u001b[39m\u001b[38;5;132;01m{\u001b[39;00m\u001b[38;5;28mlen\u001b[39m(train_err)\u001b[38;5;132;01m}\u001b[39;00m\u001b[38;5;124m\"\u001b[39m\n",
      "File \u001b[1;32mC:\\Università\\ai-generated-image-detection\\cnn\\genimage\\resnet34\\functions.py:139\u001b[0m, in \u001b[0;36mtrain_network\u001b[1;34m(model, device, lr, epochs, train_dl, val_dl)\u001b[0m\n\u001b[0;32m    137\u001b[0m current_loss \u001b[38;5;241m=\u001b[39m \u001b[38;5;241m0.0\u001b[39m\n\u001b[0;32m    138\u001b[0m \u001b[38;5;28;01mfor\u001b[39;00m Xt, Yt \u001b[38;5;129;01min\u001b[39;00m train_dl:\n\u001b[1;32m--> 139\u001b[0m     Xt \u001b[38;5;241m=\u001b[39m Xt\u001b[38;5;241m.\u001b[39mto(device)\n\u001b[0;32m    140\u001b[0m     Yt \u001b[38;5;241m=\u001b[39m Yt\u001b[38;5;241m.\u001b[39mto(device)\n\u001b[0;32m    142\u001b[0m     \u001b[38;5;66;03m# Zero the parameter gradients\u001b[39;00m\n",
      "\u001b[1;31mKeyboardInterrupt\u001b[0m: "
     ]
    }
   ],
   "source": [
    "model_init_function = models.binary_untrained\n",
    "epochs = 15\n",
    "batch_size = 64\n",
    "lr = 0.01\n",
    "val_batch_size = 64\n",
    "\n",
    "val_dl = DataLoader(validation_ds, batch_size=val_batch_size, num_workers=4)\n",
    "train_dl = DataLoader(train_ds, batch_size=batch_size, shuffle=True, num_workers=4)\n",
    "\n",
    "# Initialize the model\n",
    "model = model_init_function()\n",
    "model = model.to(device)\n",
    "model_name = f\"{model_init_function.__name__}_batch{batch_size}\"\n",
    "print(\"\\n\\n - \" + model_name)\n",
    "\n",
    "# Train the model\n",
    "train_err, val_err, train_loss = functions.train_network(model, device, lr, epochs, train_dl, val_dl)\n",
    "functions.plot_training_stats(train_err, val_err, train_loss)\n",
    "model_name += f\"_epochs{len(train_err)}\"\n",
    "\n",
    "# Save the progress\n",
    "torch.save(model.state_dict(), './weights/' + model_name + '.pth')\n",
    "stats_dict = {\n",
    "    'train_err': train_err,\n",
    "    'val_err': val_err,\n",
    "    'train_loss': train_loss\n",
    "}\n",
    "with open('./stats/' + model_name + '.pkl', 'wb') as f:\n",
    "    pickle.dump(stats_dict, f)"
   ]
  },
  {
   "cell_type": "markdown",
   "metadata": {},
   "source": [
    "# Finetuning of the pretrained model"
   ]
  },
  {
   "cell_type": "code",
   "execution_count": null,
   "metadata": {},
   "outputs": [],
   "source": [
    "model_init_function = models.binary_finetuning\n",
    "epochs = 15\n",
    "batch_size = 64\n",
    "lr = 0.01\n",
    "val_batch_size = 64\n",
    "\n",
    "val_dl = DataLoader(validation_ds, batch_size=val_batch_size, num_workers=4)\n",
    "train_dl = DataLoader(train_ds, batch_size=batch_size, shuffle=True, num_workers=4)\n",
    "\n",
    "# Initialize the model\n",
    "model = model_init_function()\n",
    "model = model.to(device)\n",
    "model_name = f\"{model_init_function.__name__}_batch{batch_size}\"\n",
    "print(\"\\n\\n - \" + model_name)\n",
    "\n",
    "# Train the model\n",
    "train_err, val_err, train_loss = functions.train_network(model, device, lr, epochs, train_dl, val_dl)\n",
    "functions.plot_training_stats(train_err, val_err, train_loss)\n",
    "model_name += f\"_epochs{len(train_err)}\"\n",
    "\n",
    "# Save the progress\n",
    "torch.save(model.state_dict(), './weights/' + model_name + '.pth')\n",
    "stats_dict = {\n",
    "    'train_err': train_err,\n",
    "    'val_err': val_err,\n",
    "    'train_loss': train_loss\n",
    "}\n",
    "with open('./stats/' + model_name + '.pkl', 'wb') as f:\n",
    "    pickle.dump(stats_dict, f)"
   ]
  }
 ],
 "metadata": {
  "kernelspec": {
   "display_name": "AllRandom",
   "language": "python",
   "name": "python3"
  },
  "language_info": {
   "codemirror_mode": {
    "name": "ipython",
    "version": 3
   },
   "file_extension": ".py",
   "mimetype": "text/x-python",
   "name": "python",
   "nbconvert_exporter": "python",
   "pygments_lexer": "ipython3",
   "version": "3.11.7"
  }
 },
 "nbformat": 4,
 "nbformat_minor": 2
}
