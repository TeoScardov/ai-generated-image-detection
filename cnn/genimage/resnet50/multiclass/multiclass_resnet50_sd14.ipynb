{
 "cells": [
  {
   "cell_type": "code",
   "execution_count": 1,
   "metadata": {},
   "outputs": [],
   "source": [
    "import sys\n",
    "import os\n",
    "script_dir = os.path.dirname(os.path.realpath('__file__'))\n",
    "parent_dir = os.path.dirname(script_dir)\n",
    "sys.path.insert(0, parent_dir)\n",
    "\n",
    "import functions\n",
    "import models\n",
    "import pickle\n",
    "from sklearn.model_selection import train_test_split\n",
    "import torch\n",
    "from torchvision import transforms\n",
    "from torch.utils.data import Subset, DataLoader"
   ]
  },
  {
   "cell_type": "code",
   "execution_count": 2,
   "metadata": {},
   "outputs": [
    {
     "name": "stdout",
     "output_type": "stream",
     "text": [
      "cuda\n"
     ]
    }
   ],
   "source": [
    "# Use the GPU instead of the CPU\n",
    "device = torch.device(\"cuda\" if torch.cuda.is_available() else \"cpu\")\n",
    "print(device)\n",
    "\n",
    "# Define the label maps\n",
    "binary_labels_map = {\n",
    "    0: \"REAL\",\n",
    "    1: \"FAKE\"\n",
    "}\n",
    "with open(os.path.join(script_dir, '../../dataset/imagenet_classes.txt'), 'r') as file:\n",
    "    labels = [line.strip() for line in file.readlines()]\n",
    "multiclass_labels_map = {index: label for index, label in enumerate(labels)}\n",
    "\n",
    "# Compose the transform that will be applied to the data\n",
    "transform = transforms.Compose([\n",
    "    transforms.Resize((224, 224)),\n",
    "    transforms.ToPILImage(),\n",
    "    transforms.ToTensor(),\n",
    "    transforms.Normalize(mean=[0.485, 0.456, 0.406], std=[0.229, 0.224, 0.225]),\n",
    "])\n",
    "\n",
    "# 324k samples for training\n",
    "train_ds = functions.MulticlassGenImage(img_dir=os.path.join(script_dir, '../../dataset/stable_diffusion_1_4/train'), transform=transform)\n",
    "\n",
    "# 6k samples for validation and 6k samples for testing\n",
    "val_test_ds= functions.MulticlassGenImage(img_dir=os.path.join(script_dir, '../../dataset/stable_diffusion_1_4/val'), transform=transform)\n",
    "# Perform a stratified split\n",
    "stratify_labels = [f\"{label['binary']}{label['multiclass']}\" for label in val_test_ds.img_labels]\n",
    "idx_val, idx_test = train_test_split(\n",
    "    range(len(val_test_ds)),\n",
    "    test_size=0.5,  # 50-50 split\n",
    "    stratify=stratify_labels, # Uniform class distribution\n",
    "    random_state=0\n",
    ")\n",
    "validation_ds = Subset(val_test_ds, idx_val)\n",
    "test_ds = Subset(val_test_ds, idx_test)"
   ]
  },
  {
   "cell_type": "markdown",
   "metadata": {},
   "source": [
    "# Finetuning"
   ]
  },
  {
   "cell_type": "code",
   "execution_count": 3,
   "metadata": {},
   "outputs": [
    {
     "name": "stderr",
     "output_type": "stream",
     "text": [
      "Downloading: \"https://download.pytorch.org/models/resnet50-11ad3fa6.pth\" to C:\\Users\\uiooo/.cache\\torch\\hub\\checkpoints\\resnet50-11ad3fa6.pth\n",
      "100%|██████████| 97.8M/97.8M [00:11<00:00, 9.19MB/s]\n"
     ]
    },
    {
     "name": "stdout",
     "output_type": "stream",
     "text": [
      "\n",
      "\n",
      " - multiclass_finetuning_batch64\n",
      "Epoch 1: current lr = 1e-05\n",
      "Train error: Combined=95.99%; Binary=32.02%; multiclass=94.20%; \n",
      "Validation error: Combined=96.17%; Binary=32.20%; multiclass=94.22%; \n",
      "Loss: 6.617e+00\n"
     ]
    },
    {
     "ename": "KeyboardInterrupt",
     "evalue": "",
     "output_type": "error",
     "traceback": [
      "\u001b[1;31m---------------------------------------------------------------------------\u001b[0m",
      "\u001b[1;31mKeyboardInterrupt\u001b[0m                         Traceback (most recent call last)",
      "Cell \u001b[1;32mIn[3], line 17\u001b[0m\n\u001b[0;32m     14\u001b[0m \u001b[38;5;28mprint\u001b[39m(\u001b[38;5;124m\"\u001b[39m\u001b[38;5;130;01m\\n\u001b[39;00m\u001b[38;5;130;01m\\n\u001b[39;00m\u001b[38;5;124m - \u001b[39m\u001b[38;5;124m\"\u001b[39m \u001b[38;5;241m+\u001b[39m model_name)\n\u001b[0;32m     16\u001b[0m \u001b[38;5;66;03m# Train the model\u001b[39;00m\n\u001b[1;32m---> 17\u001b[0m train_errors, val_errors, train_loss \u001b[38;5;241m=\u001b[39m functions\u001b[38;5;241m.\u001b[39mtrain_network_multioutput(model, device, lr, epochs, train_dl, val_dl)\n\u001b[0;32m     18\u001b[0m functions\u001b[38;5;241m.\u001b[39mplot_training_stats_multioutput(train_errors, val_errors, train_loss)\n\u001b[0;32m     19\u001b[0m model_name \u001b[38;5;241m+\u001b[39m\u001b[38;5;241m=\u001b[39m \u001b[38;5;124mf\u001b[39m\u001b[38;5;124m\"\u001b[39m\u001b[38;5;124m_epochs\u001b[39m\u001b[38;5;132;01m{\u001b[39;00m\u001b[38;5;28mlen\u001b[39m(train_errors[\u001b[38;5;124m'\u001b[39m\u001b[38;5;124mbinary\u001b[39m\u001b[38;5;124m'\u001b[39m])\u001b[38;5;132;01m}\u001b[39;00m\u001b[38;5;124m\"\u001b[39m\n",
      "File \u001b[1;32mC:\\Università\\ai-generated-image-detection\\cnn\\genimage\\resnet50\\functions.py:287\u001b[0m, in \u001b[0;36mtrain_network_multioutput\u001b[1;34m(model, device, lr, epochs, train_dl, val_dl)\u001b[0m\n\u001b[0;32m    284\u001b[0m     current_loss \u001b[38;5;241m+\u001b[39m\u001b[38;5;241m=\u001b[39m loss\u001b[38;5;241m.\u001b[39mitem()\n\u001b[0;32m    286\u001b[0m     \u001b[38;5;66;03m# Backward pass and optimize\u001b[39;00m\n\u001b[1;32m--> 287\u001b[0m     loss\u001b[38;5;241m.\u001b[39mbackward()\n\u001b[0;32m    288\u001b[0m     opt\u001b[38;5;241m.\u001b[39mstep()\n\u001b[0;32m    290\u001b[0m \u001b[38;5;66;03m# Compute validation loss\u001b[39;00m\n",
      "File \u001b[1;32mc:\\Anaconda\\envs\\AllRandom\\Lib\\site-packages\\torch\\_tensor.py:522\u001b[0m, in \u001b[0;36mTensor.backward\u001b[1;34m(self, gradient, retain_graph, create_graph, inputs)\u001b[0m\n\u001b[0;32m    512\u001b[0m \u001b[38;5;28;01mif\u001b[39;00m has_torch_function_unary(\u001b[38;5;28mself\u001b[39m):\n\u001b[0;32m    513\u001b[0m     \u001b[38;5;28;01mreturn\u001b[39;00m handle_torch_function(\n\u001b[0;32m    514\u001b[0m         Tensor\u001b[38;5;241m.\u001b[39mbackward,\n\u001b[0;32m    515\u001b[0m         (\u001b[38;5;28mself\u001b[39m,),\n\u001b[1;32m   (...)\u001b[0m\n\u001b[0;32m    520\u001b[0m         inputs\u001b[38;5;241m=\u001b[39minputs,\n\u001b[0;32m    521\u001b[0m     )\n\u001b[1;32m--> 522\u001b[0m torch\u001b[38;5;241m.\u001b[39mautograd\u001b[38;5;241m.\u001b[39mbackward(\n\u001b[0;32m    523\u001b[0m     \u001b[38;5;28mself\u001b[39m, gradient, retain_graph, create_graph, inputs\u001b[38;5;241m=\u001b[39minputs\n\u001b[0;32m    524\u001b[0m )\n",
      "File \u001b[1;32mc:\\Anaconda\\envs\\AllRandom\\Lib\\site-packages\\torch\\autograd\\__init__.py:266\u001b[0m, in \u001b[0;36mbackward\u001b[1;34m(tensors, grad_tensors, retain_graph, create_graph, grad_variables, inputs)\u001b[0m\n\u001b[0;32m    261\u001b[0m     retain_graph \u001b[38;5;241m=\u001b[39m create_graph\n\u001b[0;32m    263\u001b[0m \u001b[38;5;66;03m# The reason we repeat the same comment below is that\u001b[39;00m\n\u001b[0;32m    264\u001b[0m \u001b[38;5;66;03m# some Python versions print out the first line of a multi-line function\u001b[39;00m\n\u001b[0;32m    265\u001b[0m \u001b[38;5;66;03m# calls in the traceback and some print out the last line\u001b[39;00m\n\u001b[1;32m--> 266\u001b[0m Variable\u001b[38;5;241m.\u001b[39m_execution_engine\u001b[38;5;241m.\u001b[39mrun_backward(  \u001b[38;5;66;03m# Calls into the C++ engine to run the backward pass\u001b[39;00m\n\u001b[0;32m    267\u001b[0m     tensors,\n\u001b[0;32m    268\u001b[0m     grad_tensors_,\n\u001b[0;32m    269\u001b[0m     retain_graph,\n\u001b[0;32m    270\u001b[0m     create_graph,\n\u001b[0;32m    271\u001b[0m     inputs,\n\u001b[0;32m    272\u001b[0m     allow_unreachable\u001b[38;5;241m=\u001b[39m\u001b[38;5;28;01mTrue\u001b[39;00m,\n\u001b[0;32m    273\u001b[0m     accumulate_grad\u001b[38;5;241m=\u001b[39m\u001b[38;5;28;01mTrue\u001b[39;00m,\n\u001b[0;32m    274\u001b[0m )\n",
      "\u001b[1;31mKeyboardInterrupt\u001b[0m: "
     ]
    }
   ],
   "source": [
    "model_init_function = models.multiclass_finetuning\n",
    "epochs = 15\n",
    "batch_size = 64\n",
    "lr = 0.00001\n",
    "val_batch_size = 64\n",
    "\n",
    "val_dl = DataLoader(validation_ds, batch_size=val_batch_size, num_workers=4)\n",
    "train_dl = DataLoader(train_ds, batch_size=batch_size, shuffle=True, num_workers=4)\n",
    "\n",
    "# Initialize the model\n",
    "model = model_init_function()\n",
    "model = model.to(device)\n",
    "model_name = f\"{model_init_function.__name__}_batch{batch_size}\"\n",
    "print(\"\\n\\n - \" + model_name)\n",
    "\n",
    "# Train the model\n",
    "train_errors, val_errors, train_loss = functions.train_network_multioutput(model, device, lr, epochs, train_dl, val_dl)\n",
    "functions.plot_training_stats_multioutput(train_errors, val_errors, train_loss)\n",
    "model_name += f\"_epochs{len(train_errors['binary'])}\"\n",
    "\n",
    "# Save the progress\n",
    "torch.save(model.state_dict(), './weights/' + model_name + '.pth')\n",
    "stats_dict = {\n",
    "'train_errors': train_errors,\n",
    "'val_errors': val_errors,\n",
    "'train_loss': train_loss\n",
    "}\n",
    "with open('./stats/' + model_name + '.pkl', 'wb') as f:\n",
    "    pickle.dump(stats_dict, f)"
   ]
  }
 ],
 "metadata": {
  "kernelspec": {
   "display_name": "AllRandom",
   "language": "python",
   "name": "python3"
  },
  "language_info": {
   "codemirror_mode": {
    "name": "ipython",
    "version": 3
   },
   "file_extension": ".py",
   "mimetype": "text/x-python",
   "name": "python",
   "nbconvert_exporter": "python",
   "pygments_lexer": "ipython3",
   "version": "3.11.7"
  }
 },
 "nbformat": 4,
 "nbformat_minor": 2
}
