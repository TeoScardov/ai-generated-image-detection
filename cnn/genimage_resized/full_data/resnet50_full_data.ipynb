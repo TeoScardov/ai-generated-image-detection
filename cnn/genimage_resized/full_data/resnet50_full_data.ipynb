{
 "cells": [
  {
   "cell_type": "code",
   "execution_count": 1,
   "metadata": {
    "execution": {
     "iopub.execute_input": "2024-05-08T17:13:27.461357Z",
     "iopub.status.busy": "2024-05-08T17:13:27.461045Z",
     "iopub.status.idle": "2024-05-08T17:13:29.161467Z",
     "shell.execute_reply": "2024-05-08T17:13:29.160852Z"
    }
   },
   "outputs": [],
   "source": [
    "import sys\n",
    "import os\n",
    "script_dir = os.path.dirname(os.path.realpath('__file__'))\n",
    "parent_dir = os.path.dirname(script_dir)\n",
    "sys.path.insert(0, parent_dir)\n",
    "\n",
    "import functions\n",
    "import models\n",
    "import gradcam\n",
    "import pickle\n",
    "from sklearn.model_selection import train_test_split\n",
    "import torch\n",
    "from torchvision import transforms\n",
    "from torch.utils.data import Subset, DataLoader\n",
    "from torch.utils.tensorboard import SummaryWriter"
   ]
  },
  {
   "cell_type": "code",
   "execution_count": 2,
   "metadata": {
    "execution": {
     "iopub.execute_input": "2024-05-08T17:13:29.164116Z",
     "iopub.status.busy": "2024-05-08T17:13:29.163836Z",
     "iopub.status.idle": "2024-05-08T17:13:30.005492Z",
     "shell.execute_reply": "2024-05-08T17:13:30.004843Z"
    }
   },
   "outputs": [
    {
     "name": "stdout",
     "output_type": "stream",
     "text": [
      "cuda:0\n"
     ]
    }
   ],
   "source": [
    "# Use the GPU instead of the CPU\n",
    "device = torch.device(\"cuda:0\" if torch.cuda.is_available() else \"cpu\")\n",
    "print(device)\n",
    "\n",
    "# Define the label maps\n",
    "dataset_path = '/mnt/ssd/dataset/scardovi/genimage256'\n",
    "\n",
    "with open(os.path.join(dataset_path, 'imagenet_classes.txt'), 'r') as file:\n",
    "    labels = [line.strip() for line in file.readlines()]\n",
    "multiclass_labels_map = {index: label for index, label in enumerate(labels)}\n",
    "\n",
    "# Compose the transform that will be applied to the data\n",
    "transform = transforms.Compose([\n",
    "    transforms.ToTensor(),\n",
    "])\n",
    "\n",
    "# training\n",
    "train_ds = functions.MulticlassGenImage(img_dir=dataset_path, transform=transform)\n",
    "\n",
    "# validation and testing\n",
    "val_ground_truth = functions.val_mapping(dataset_path)\n",
    "val_test_ds= functions.MulticlassGenImage(img_dir=dataset_path, val_gt=val_ground_truth, transform=transform)\n",
    "# Perform a stratified split\n",
    "stratify_labels = [f\"{label['generator']}{label['multiclass']}\" for label in val_test_ds.img_labels]\n",
    "idx_val, idx_test = train_test_split(\n",
    "    range(len(val_test_ds)),\n",
    "    test_size=0.5,  # 50-50 split\n",
    "    random_state=0\n",
    ")\n",
    "validation_ds = Subset(val_test_ds, idx_val)\n",
    "test_ds = Subset(val_test_ds, idx_test)"
   ]
  },
  {
   "cell_type": "code",
   "execution_count": null,
   "metadata": {},
   "outputs": [],
   "source": [
    "model_init_function = models.multiclass_finetuning\n",
    "epochs = 5\n",
    "batch_size = 64\n",
    "lr = 0.0001\n",
    "val_batch_size = 64\n",
    "\n",
    "\n",
    "val_dl = DataLoader(validation_ds, batch_size=val_batch_size, num_workers=6, prefetch_factor=6, pin_memory=True)\n",
    "train_dl = DataLoader(train_ds, batch_size=batch_size, shuffle=True, num_workers=6, pin_memory=True, prefetch_factor=6)\n",
    "\n",
    "# Initialize the model\n",
    "model = model_init_function()\n",
    "model = model.to(device)\n",
    "model_name = f\"{model_init_function.__name__}_batch{batch_size}\"\n",
    "print(\"\\n\\n - \" + model_name)\n",
    "\n",
    "# Train the model\n",
    "train_errors, val_errors, train_loss = functions.train_network_multioutput(model, device, lr, epochs, train_dl, val_dl)\n",
    "functions.plot_training_stats_multioutput(train_errors, val_errors, train_loss)\n",
    "model_name += f\"_epochs{len(train_errors['generator'])}\"\n",
    "\n",
    "# Save the progress\n",
    "torch.save(model.state_dict(), './weights/' + model_name + '_short.pth')\n",
    "stats_dict = {\n",
    "'train_errors': train_errors,\n",
    "'val_errors': val_errors,\n",
    "'train_loss': train_loss\n",
    "}\n",
    "with open('./stats/' + model_name + '_short.pkl', 'wb') as f:\n",
    "    pickle.dump(stats_dict, f)"
   ]
  },
  {
   "cell_type": "markdown",
   "metadata": {},
   "source": [
    "# Model training"
   ]
  },
  {
   "cell_type": "markdown",
   "metadata": {},
   "source": [
    "model_init_function = models.multiclass_finetuning\n",
    "epochs = 90\n",
    "batch_size = 64\n",
    "lr = 0.1\n",
    "val_batch_size = 64\n",
    "scheduler_patience=7\n",
    "\n",
    "val_dl = DataLoader(validation_ds, batch_size=val_batch_size, num_workers=6, prefetch_factor=6, pin_memory=True)\n",
    "train_dl = DataLoader(train_ds, batch_size=batch_size, shuffle=True, num_workers=6, pin_memory=True, prefetch_factor=6)\n",
    "\n",
    "# Initialize the model\n",
    "model = model_init_function()\n",
    "model = model.to(device)\n",
    "model_name = f\"{model_init_function.__name__}_batch{batch_size}\"\n",
    "print(\"\\n\\n - \" + model_name)\n",
    "writer = SummaryWriter('logs/'+model_name)\n",
    "\n",
    "# Train the model\n",
    "train_errors, val_errors, train_loss = functions.train_network_multioutput(model, device, lr, epochs, train_dl, val_dl, writer=writer, scheduler_patience=scheduler_patience)\n",
    "functions.plot_training_stats_multioutput(train_errors, val_errors, train_loss)\n",
    "model_name += f\"_epochs{len(train_errors['generator'])}\"\n",
    "writer.close()\n",
    "\n",
    "# Save the progress\n",
    "torch.save(model.state_dict(), './weights/' + model_name + '.pth')\n",
    "stats_dict = {\n",
    "'train_errors': train_errors,\n",
    "'val_errors': val_errors,\n",
    "'train_loss': train_loss\n",
    "}\n",
    "with open('./stats/' + model_name + '.pkl', 'wb') as f:\n",
    "    pickle.dump(stats_dict, f)"
   ]
  }
 ],
 "metadata": {
  "kernelspec": {
   "display_name": "AllRandom",
   "language": "python",
   "name": "python3"
  },
  "language_info": {
   "codemirror_mode": {
    "name": "ipython",
    "version": 3
   },
   "file_extension": ".py",
   "mimetype": "text/x-python",
   "name": "python",
   "nbconvert_exporter": "python",
   "pygments_lexer": "ipython3",
   "version": "3.10.12"
  }
 },
 "nbformat": 4,
 "nbformat_minor": 2
}
